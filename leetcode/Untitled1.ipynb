{
 "cells": [
  {
   "cell_type": "code",
   "execution_count": 1,
   "id": "2f225942-dfcb-4a53-b027-8a0de7f8b8ff",
   "metadata": {},
   "outputs": [],
   "source": [
    "s = \"S\".lower()"
   ]
  },
  {
   "cell_type": "code",
   "execution_count": 2,
   "id": "5bcc8290-ca01-4e0b-a52d-023c7579dca5",
   "metadata": {},
   "outputs": [
    {
     "data": {
      "text/plain": [
       "'s'"
      ]
     },
     "execution_count": 2,
     "metadata": {},
     "output_type": "execute_result"
    }
   ],
   "source": [
    "s\n"
   ]
  },
  {
   "cell_type": "code",
   "execution_count": 3,
   "id": "07373590-ba2c-4b99-bbbb-5f06295bcdd0",
   "metadata": {},
   "outputs": [],
   "source": [
    "a = [1, 2]"
   ]
  },
  {
   "cell_type": "code",
   "execution_count": 12,
   "id": "e554dbeb-edf4-4e03-89e2-aa98af4353ee",
   "metadata": {},
   "outputs": [
    {
     "data": {
      "text/plain": [
       "[2, 1]"
      ]
     },
     "execution_count": 12,
     "metadata": {},
     "output_type": "execute_result"
    }
   ],
   "source": [
    "a[::-1]"
   ]
  },
  {
   "cell_type": "code",
   "execution_count": 5,
   "id": "d46d4fb7-1864-4b15-8622-98d63dadf1bb",
   "metadata": {},
   "outputs": [],
   "source": [
    "s = \"string\""
   ]
  },
  {
   "cell_type": "code",
   "execution_count": 13,
   "id": "7a840f45-82f3-4287-9a8d-72e9c2affd75",
   "metadata": {},
   "outputs": [
    {
     "data": {
      "text/plain": [
       "'gnirts'"
      ]
     },
     "execution_count": 13,
     "metadata": {},
     "output_type": "execute_result"
    }
   ],
   "source": [
    "s[::-1]"
   ]
  },
  {
   "cell_type": "code",
   "execution_count": 18,
   "id": "517227b6-f08e-4d2f-8b5b-c04beb0a2f66",
   "metadata": {},
   "outputs": [
    {
     "data": {
      "text/plain": [
       "False"
      ]
     },
     "execution_count": 18,
     "metadata": {},
     "output_type": "execute_result"
    }
   ],
   "source": [
    "\" \".isalnum()"
   ]
  },
  {
   "cell_type": "code",
   "execution_count": 27,
   "id": "9b048565-d6ff-41d8-9ef4-902aca1eb81e",
   "metadata": {},
   "outputs": [
    {
     "data": {
      "text/plain": [
       "-1"
      ]
     },
     "execution_count": 27,
     "metadata": {},
     "output_type": "execute_result"
    }
   ],
   "source": [
    "s = \"sss1\"\n",
    "s.find(\"i\")"
   ]
  },
  {
   "cell_type": "code",
   "execution_count": 54,
   "id": "5b9fdbd8-d95d-40cf-95dd-d48bbbb99a0a",
   "metadata": {},
   "outputs": [],
   "source": [
    "t = \"abcdabn\"\n",
    "from collections import defaultdict\n",
    "lookup = defaultdict(list)\n",
    "for i, char in enumerate(t):\n",
    "    lookup[char] = lookup[char] + [i]"
   ]
  },
  {
   "cell_type": "code",
   "execution_count": 57,
   "id": "cf116349-0647-4245-979a-f55affbac452",
   "metadata": {},
   "outputs": [
    {
     "data": {
      "text/plain": [
       "0"
      ]
     },
     "execution_count": 57,
     "metadata": {},
     "output_type": "execute_result"
    }
   ],
   "source": []
  },
  {
   "cell_type": "code",
   "execution_count": null,
   "id": "b91f9cce-39ce-44a6-b1af-7c2fe1c93caf",
   "metadata": {},
   "outputs": [],
   "source": []
  }
 ],
 "metadata": {
  "kernelspec": {
   "display_name": "Python 3 (ipykernel)",
   "language": "python",
   "name": "python3"
  },
  "language_info": {
   "codemirror_mode": {
    "name": "ipython",
    "version": 3
   },
   "file_extension": ".py",
   "mimetype": "text/x-python",
   "name": "python",
   "nbconvert_exporter": "python",
   "pygments_lexer": "ipython3",
   "version": "3.9.13"
  }
 },
 "nbformat": 4,
 "nbformat_minor": 5
}
