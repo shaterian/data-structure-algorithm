{
 "cells": [
  {
   "cell_type": "code",
   "execution_count": 48,
   "id": "8b3e2ab5-91ad-4c51-afba-f961fd0be4dc",
   "metadata": {},
   "outputs": [],
   "source": [
    "a = [1,2,2]"
   ]
  },
  {
   "cell_type": "code",
   "execution_count": 49,
   "id": "8f18b9e4-5ba5-45a4-a5e2-30f56acb15a7",
   "metadata": {},
   "outputs": [],
   "source": [
    "b = a[:]\n"
   ]
  },
  {
   "cell_type": "code",
   "execution_count": 50,
   "id": "90a6646a-45cc-4d43-b98b-3ca36e4ffbe9",
   "metadata": {},
   "outputs": [],
   "source": [
    "b = b.pop()"
   ]
  },
  {
   "cell_type": "code",
   "execution_count": 51,
   "id": "1cfc1d1f-5b36-4b7a-a7bf-f541104dd261",
   "metadata": {},
   "outputs": [
    {
     "data": {
      "text/plain": [
       "[1, 2, 2]"
      ]
     },
     "execution_count": 51,
     "metadata": {},
     "output_type": "execute_result"
    }
   ],
   "source": [
    "a\n"
   ]
  },
  {
   "cell_type": "code",
   "execution_count": 52,
   "id": "729e6dc8-a93a-4bf8-9fc8-4456d1ffc985",
   "metadata": {},
   "outputs": [
    {
     "data": {
      "text/plain": [
       "2"
      ]
     },
     "execution_count": 52,
     "metadata": {},
     "output_type": "execute_result"
    }
   ],
   "source": [
    "b"
   ]
  },
  {
   "cell_type": "code",
   "execution_count": null,
   "id": "2f25bb9b-3f26-4d21-955a-f68a34908478",
   "metadata": {},
   "outputs": [],
   "source": []
  },
  {
   "cell_type": "code",
   "execution_count": 47,
   "id": "314a251a-d96c-4b16-bd4f-4d88f6855d4b",
   "metadata": {},
   "outputs": [
    {
     "data": {
      "text/plain": [
       "1"
      ]
     },
     "execution_count": 47,
     "metadata": {},
     "output_type": "execute_result"
    }
   ],
   "source": [
    "b"
   ]
  },
  {
   "cell_type": "code",
   "execution_count": 53,
   "id": "8d721c32-34f5-4518-adcf-46c887b77458",
   "metadata": {},
   "outputs": [],
   "source": [
    "from collections import deque\n"
   ]
  },
  {
   "cell_type": "code",
   "execution_count": 62,
   "id": "afe83767-c6fa-4e15-974c-e86c5bcb73da",
   "metadata": {},
   "outputs": [],
   "source": [
    "a = deque([[1,1]])"
   ]
  },
  {
   "cell_type": "code",
   "execution_count": 63,
   "id": "8f7b0bfa-b6d4-4b8e-9f25-6a78b527a5c2",
   "metadata": {},
   "outputs": [],
   "source": [
    "\n",
    "[c, d] = a.popleft()"
   ]
  },
  {
   "cell_type": "code",
   "execution_count": 64,
   "id": "0694747e-b3e0-4dcc-ad9c-3f661b4ed158",
   "metadata": {},
   "outputs": [
    {
     "data": {
      "text/plain": [
       "1"
      ]
     },
     "execution_count": 64,
     "metadata": {},
     "output_type": "execute_result"
    }
   ],
   "source": [
    "c"
   ]
  },
  {
   "cell_type": "code",
   "execution_count": 70,
   "id": "c934918b-9806-4f06-b1d1-0099224323f0",
   "metadata": {},
   "outputs": [
    {
     "data": {
      "text/plain": [
       "16"
      ]
     },
     "execution_count": 70,
     "metadata": {},
     "output_type": "execute_result"
    }
   ],
   "source": [
    "1<<4 & 19"
   ]
  },
  {
   "cell_type": "code",
   "execution_count": null,
   "id": "36c464ad-b8a7-4ffa-aeb3-4aaf31706b95",
   "metadata": {},
   "outputs": [],
   "source": []
  }
 ],
 "metadata": {
  "kernelspec": {
   "display_name": "Python 3 (ipykernel)",
   "language": "python",
   "name": "python3"
  },
  "language_info": {
   "codemirror_mode": {
    "name": "ipython",
    "version": 3
   },
   "file_extension": ".py",
   "mimetype": "text/x-python",
   "name": "python",
   "nbconvert_exporter": "python",
   "pygments_lexer": "ipython3",
   "version": "3.9.13"
  }
 },
 "nbformat": 4,
 "nbformat_minor": 5
}
